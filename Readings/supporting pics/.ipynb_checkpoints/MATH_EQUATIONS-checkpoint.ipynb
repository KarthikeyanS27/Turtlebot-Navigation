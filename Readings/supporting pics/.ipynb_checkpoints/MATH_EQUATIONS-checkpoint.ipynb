{
 "cells": [
  {
   "cell_type": "markdown",
   "metadata": {},
   "source": [
    "# Pure Ackermann Steering"
   ]
  },
  {
   "cell_type": "markdown",
   "metadata": {},
   "source": [
    "## Equation Derivation"
   ]
  },
  {
   "cell_type": "markdown",
   "metadata": {},
   "source": [
    "General trigonometry"
   ]
  },
  {
   "cell_type": "markdown",
   "metadata": {},
   "source": [
    "$$ tan(\\theta_{com}) = \\frac{l/2}{\\rho} $$ \n",
    "\n",
    "$$ tan(\\theta_{inner}) = \\frac{l}{\\rho-w/2} $$\n",
    "\n",
    "$$ tan(\\theta_{outer}) = \\frac{l}{\\rho+w/2} $$\n"
   ]
  },
  {
   "cell_type": "markdown",
   "metadata": {},
   "source": [
    "Radius of curvature"
   ]
  },
  {
   "cell_type": "markdown",
   "metadata": {},
   "source": [
    "$$ \\rho = \\frac{l}{2*tan(\\text{ }|\\theta_{com}|\\text{ } )} $$"
   ]
  },
  {
   "cell_type": "markdown",
   "metadata": {},
   "source": [
    "Steer angles"
   ]
  },
  {
   "cell_type": "markdown",
   "metadata": {},
   "source": [
    "$$ \\theta_{inner} = \\tan^{-1}(\\frac{l}{\\rho-w/2}) $$\n",
    "\n",
    "$$ \\theta_{outer} = \\tan^{-1}(\\frac{l}{\\rho+w/2}) $$"
   ]
  },
  {
   "cell_type": "markdown",
   "metadata": {},
   "source": [
    "## Calculations"
   ]
  },
  {
   "cell_type": "markdown",
   "metadata": {},
   "source": [
    "#### Convention definitions:\n",
    "- All angles in radians so easier to work with ROS-Gazebo controller plugin.\n",
    "- Positive angle results in left turn when looking from top-down."
   ]
  },
  {
   "cell_type": "markdown",
   "metadata": {},
   "source": [
    "#### Algorithm\n",
    "1. Find radius of curvature using absolute value of $\\theta_{com}$.\n",
    "\n",
    "2. Determine steering direction \n",
    "   - If $\\theta_{com}$ > 0, turning left\n",
    "\n",
    "   &nbsp; &nbsp; &nbsp; &nbsp; &nbsp; &nbsp; &nbsp; &nbsp; &nbsp; &nbsp; &nbsp; &nbsp; &nbsp; &nbsp; &nbsp; &nbsp; &nbsp; &nbsp; $ \\theta_{left} = \\theta_{inner} $\n",
    "   \n",
    "   &nbsp; &nbsp; &nbsp; &nbsp; &nbsp; &nbsp; &nbsp; &nbsp; &nbsp; &nbsp; &nbsp; &nbsp; &nbsp; &nbsp; &nbsp; &nbsp; &nbsp; &nbsp; $ \\theta_{right} = \\theta_{outer} $\n",
    "   \n",
    "   - If $\\theta_{com}$ < 0, turning right*\n",
    "   \n",
    "   &nbsp; &nbsp; &nbsp; &nbsp; &nbsp; &nbsp; &nbsp; &nbsp; &nbsp; &nbsp; &nbsp; &nbsp; &nbsp; &nbsp; &nbsp; &nbsp; &nbsp; &nbsp; $ \\theta_{left} = -\\theta_{outer} $\n",
    "   \n",
    "   &nbsp; &nbsp; &nbsp; &nbsp; &nbsp; &nbsp; &nbsp; &nbsp; &nbsp; &nbsp; &nbsp; &nbsp; &nbsp; &nbsp; &nbsp; &nbsp; &nbsp; &nbsp; $ \\theta_{right} = -\\theta_{inner} $\n",
    "   \n",
    "   - If $\\theta_{com}$ = 0, going straight\n",
    "   \n",
    "   &nbsp; &nbsp; &nbsp; &nbsp; &nbsp; &nbsp; &nbsp; &nbsp; &nbsp; &nbsp; &nbsp; &nbsp; &nbsp; &nbsp; &nbsp; &nbsp; &nbsp; &nbsp; $ \\theta_{left} = 0 $\n",
    "   \n",
    "   &nbsp; &nbsp; &nbsp; &nbsp; &nbsp; &nbsp; &nbsp; &nbsp; &nbsp; &nbsp; &nbsp; &nbsp; &nbsp; &nbsp; &nbsp; &nbsp; &nbsp; &nbsp; $ \\theta_{right} = 0 $\n",
    "   \n",
    "*use negative signs for right turn to follow conventions"
   ]
  },
  {
   "cell_type": "markdown",
   "metadata": {},
   "source": [
    "# MPC path and control planner"
   ]
  },
  {
   "cell_type": "markdown",
   "metadata": {},
   "source": [
    "Objective function"
   ]
  },
  {
   "cell_type": "markdown",
   "metadata": {},
   "source": [
    "$$ \\text{cost} = J_a + J_{\\phi} + J_{dist} + J_{obs} + J_{lineCross} + J_{vmin} + J_{vmax} + J_{reverse} + J_{fast} + J_{previousLoc} $$"
   ]
  },
  {
   "cell_type": "markdown",
   "metadata": {},
   "source": [
    "$$ J_a = W_a*sum_a $$\n",
    "\n",
    "$$ J_{phi} = W_{phi}*sum_{phi} $$\n",
    "\n",
    "$$ J_{dist} = W_{dist}*sum_{dist} $$\n",
    "\n",
    "$$ J_{obs} = W_{obs}*sum_{obs} $$\n",
    "\n",
    "$$ J_{lineCross} = W_{lineCross}*sum_{lineCross} $$\n",
    "\n",
    "$$ J_{vmin} = W_{vmin}*sum_{vmin} $$\n",
    "\n",
    "$$ J_{vmax} = W_{vmax}*sum_{vmax} $$\n",
    "\n",
    "$$ J_{reverse} = W_{reverse}*sum_{reverse} $$\n",
    "\n",
    "$$ J_{fast} = W_{fast}*sum_{fast} $$\n",
    "\n",
    "$$ J_{previousLoc} = W_{previousLoc}*sum_{previousLoc} $$\n"
   ]
  },
  {
   "cell_type": "markdown",
   "metadata": {},
   "source": [
    "Optimization problem"
   ]
  },
  {
   "cell_type": "markdown",
   "metadata": {},
   "source": [
    "$$\n",
    "\\begin{aligned}\n",
    "{\\text{minimize}}\\qquad& \\text{cost} \\\\\n",
    "\\text{subject to:}\\qquad\n",
    "& \\text{cost} = sums \\cdot W^T\\\\\n",
    "& W = \\begin{bmatrix} W_a & W_{phi} & W_{dist} & W_{obs} & W_{lineCross} & W_{vmin} & W_{vmax} & W_{reverse} & W_{fast} & W_{previousLoc} \\end{bmatrix} \\\\\n",
    "& sums = \\begin{bmatrix} sum_a & sum_{phi} & sum_{dist} & sum_{obs} & sum_{lineCross} & sum_{vmin} & sum_{vmax} & sum_{reverse} & sum_{fast} & sum_{previousLoc} \\end{bmatrix} \\\\\n",
    "& W, sums \\in \\mathbb{R^{10}}\n",
    "\\end{aligned}\n",
    "$$"
   ]
  },
  {
   "cell_type": "code",
   "execution_count": null,
   "metadata": {},
   "outputs": [],
   "source": []
  }
 ],
 "metadata": {
  "kernelspec": {
   "display_name": "Julia 1.1.0",
   "language": "julia",
   "name": "julia-1.1"
  },
  "language_info": {
   "file_extension": ".jl",
   "mimetype": "application/julia",
   "name": "julia",
   "version": "1.1.0"
  }
 },
 "nbformat": 4,
 "nbformat_minor": 2
}
