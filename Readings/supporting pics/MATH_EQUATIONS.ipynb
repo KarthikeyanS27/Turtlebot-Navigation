{
 "cells": [
  {
   "cell_type": "markdown",
   "metadata": {},
   "source": [
    "# Pure Ackermann Steering"
   ]
  },
  {
   "cell_type": "markdown",
   "metadata": {},
   "source": [
    "## Equation Derivation"
   ]
  },
  {
   "cell_type": "markdown",
   "metadata": {},
   "source": [
    "General trigonometry"
   ]
  },
  {
   "cell_type": "markdown",
   "metadata": {},
   "source": [
    "$$ tan(\\theta_{com}) = \\frac{l/2}{\\rho} $$ \n",
    "\n",
    "$$ tan(\\theta_{inner}) = \\frac{l}{\\rho-w/2} $$\n",
    "\n",
    "$$ tan(\\theta_{outer}) = \\frac{l}{\\rho+w/2} $$\n"
   ]
  },
  {
   "cell_type": "markdown",
   "metadata": {},
   "source": [
    "Radius of curvature"
   ]
  },
  {
   "cell_type": "markdown",
   "metadata": {},
   "source": [
    "$$ \\rho = \\frac{l}{2*tan(\\text{ }|\\theta_{com}|\\text{ } )} $$"
   ]
  },
  {
   "cell_type": "markdown",
   "metadata": {},
   "source": [
    "Steer angles"
   ]
  },
  {
   "cell_type": "markdown",
   "metadata": {},
   "source": [
    "$$ \\theta_{inner} = \\tan^{-1}(\\frac{l}{\\rho-w/2}) $$\n",
    "\n",
    "$$ \\theta_{outer} = \\tan^{-1}(\\frac{l}{\\rho+w/2}) $$"
   ]
  },
  {
   "cell_type": "markdown",
   "metadata": {},
   "source": [
    "## Calculations"
   ]
  },
  {
   "cell_type": "markdown",
   "metadata": {},
   "source": [
    "#### Convention definitions:\n",
    "- All angles in radians so easier to work with ROS-Gazebo controller plugin.\n",
    "- Positive angle results in left turn when looking from top-down."
   ]
  },
  {
   "cell_type": "markdown",
   "metadata": {},
   "source": [
    "#### Algorithm\n",
    "1. Find radius of curvature using absolute value of $\\theta_{com}$.\n",
    "\n",
    "2. Determine steering direction \n",
    "   - If $\\theta_{com}$ > 0, turning left\n",
    "\n",
    "   &nbsp; &nbsp; &nbsp; &nbsp; &nbsp; &nbsp; &nbsp; &nbsp; &nbsp; &nbsp; &nbsp; &nbsp; &nbsp; &nbsp; &nbsp; &nbsp; &nbsp; &nbsp; $ \\theta_{left} = \\theta_{inner} $\n",
    "   \n",
    "   &nbsp; &nbsp; &nbsp; &nbsp; &nbsp; &nbsp; &nbsp; &nbsp; &nbsp; &nbsp; &nbsp; &nbsp; &nbsp; &nbsp; &nbsp; &nbsp; &nbsp; &nbsp; $ \\theta_{right} = \\theta_{outer} $\n",
    "   \n",
    "   - If $\\theta_{com}$ < 0, turning right*\n",
    "   \n",
    "   &nbsp; &nbsp; &nbsp; &nbsp; &nbsp; &nbsp; &nbsp; &nbsp; &nbsp; &nbsp; &nbsp; &nbsp; &nbsp; &nbsp; &nbsp; &nbsp; &nbsp; &nbsp; $ \\theta_{left} = -\\theta_{outer} $\n",
    "   \n",
    "   &nbsp; &nbsp; &nbsp; &nbsp; &nbsp; &nbsp; &nbsp; &nbsp; &nbsp; &nbsp; &nbsp; &nbsp; &nbsp; &nbsp; &nbsp; &nbsp; &nbsp; &nbsp; $ \\theta_{right} = -\\theta_{inner} $\n",
    "   \n",
    "   - If $\\theta_{com}$ = 0, going straight\n",
    "   \n",
    "   &nbsp; &nbsp; &nbsp; &nbsp; &nbsp; &nbsp; &nbsp; &nbsp; &nbsp; &nbsp; &nbsp; &nbsp; &nbsp; &nbsp; &nbsp; &nbsp; &nbsp; &nbsp; $ \\theta_{left} = 0 $\n",
    "   \n",
    "   &nbsp; &nbsp; &nbsp; &nbsp; &nbsp; &nbsp; &nbsp; &nbsp; &nbsp; &nbsp; &nbsp; &nbsp; &nbsp; &nbsp; &nbsp; &nbsp; &nbsp; &nbsp; $ \\theta_{right} = 0 $\n",
    "   \n",
    "*use negative signs for right turn to follow conventions"
   ]
  },
  {
   "cell_type": "code",
   "execution_count": null,
   "metadata": {},
   "outputs": [],
   "source": []
  }
 ],
 "metadata": {
  "kernelspec": {
   "display_name": "Julia 1.1.0",
   "language": "julia",
   "name": "julia-1.1"
  },
  "language_info": {
   "file_extension": ".jl",
   "mimetype": "application/julia",
   "name": "julia",
   "version": "1.1.0"
  }
 },
 "nbformat": 4,
 "nbformat_minor": 2
}
